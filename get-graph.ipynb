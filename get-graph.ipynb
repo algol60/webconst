{
 "cells": [
  {
   "cell_type": "markdown",
   "metadata": {},
   "source": [
    "# Get a Constellation graph\n",
    "Get some vertex and transaction attributes."
   ]
  },
  {
   "cell_type": "code",
   "execution_count": null,
   "metadata": {},
   "outputs": [],
   "source": [
    "import json\n",
    "from PIL import Image\n",
    "import io\n",
    "\n",
    "import constellation_client"
   ]
  },
  {
   "cell_type": "code",
   "execution_count": null,
   "metadata": {},
   "outputs": [],
   "source": [
    "SPRITE_ATLAS = 'sprite_atlas.png'\n",
    "\n",
    "# Constellation icons are this big.\n",
    "#\n",
    "ICON_SIZE = 256\n",
    "\n",
    "# We build a texture map this big.\n",
    "# Even low-end GPUs should be able to cope with this.\n",
    "#\n",
    "TEXTURE_SIZE = 4096\n",
    "\n",
    "TEXTURE_ICONS = TEXTURE_SIZE // ICON_SIZE\n",
    "print(TEXTURE_ICONS)"
   ]
  },
  {
   "cell_type": "code",
   "execution_count": null,
   "metadata": {},
   "outputs": [],
   "source": [
    "cc = constellation_client.Constellation()"
   ]
  },
  {
   "cell_type": "markdown",
   "metadata": {},
   "source": [
    "## Vertices"
   ]
  },
  {
   "cell_type": "code",
   "execution_count": null,
   "metadata": {},
   "outputs": [],
   "source": [
    "vx_attrs = ['source.[id]', 'source.Label', 'source.x', 'source.y', 'source.z', 'source.icon', 'source.background_icon', 'source.color', 'source.nradius']\n",
    "\n",
    "vxdf = cc.get_dataframe(vx=True, attrs=vx_attrs)\n",
    "vxdf = vxdf.rename(columns=lambda name:name.replace('source.', '', 1) if name.startswith('source.') else name)\n",
    "vxdf.head()"
   ]
  },
  {
   "cell_type": "markdown",
   "metadata": {},
   "source": [
    "## Icons"
   ]
  },
  {
   "cell_type": "code",
   "execution_count": null,
   "metadata": {},
   "outputs": [],
   "source": [
    "def make_texture_atlas(icons, atlas_name):\n",
    "    \"\"\"Given a collection of icons of size ICON_SIZE, create a texture map.\n",
    "    \n",
    "    TODO put the background icons in first?\n",
    "    \n",
    "    :returns: a map from name to cell_index\n",
    "    \"\"\"\n",
    "    \n",
    "    icons = set(icons)\n",
    "    \n",
    "    N = len(icons)\n",
    "    W = min(N, TEXTURE_ICONS)\n",
    "    H = N % W + 1\n",
    "    if H >= TEXTURE_ICONS:\n",
    "        raise ValueError('Too many icons')\n",
    "    \n",
    "    print(N, W, H)\n",
    "    \n",
    "    sheet = Image.new('RGBA', (W*ICON_SIZE, H*ICON_SIZE))\n",
    "    print(f'Created texture atlas {sheet.size}')\n",
    "    \n",
    "    icon_map = {}\n",
    "    for i, icon_name in enumerate(icons):\n",
    "        x = i % W\n",
    "        y = i // W\n",
    "        cell_index = y*W + x\n",
    "        print('.', x, y, cell_index, icon_name)\n",
    "        \n",
    "        img = cc.get_icon(icon_name)\n",
    "        with io.BytesIO(img) as buf:\n",
    "            img = Image.open(buf)\n",
    "            \n",
    "            ISIZE = ICON_SIZE, ICON_SIZE\n",
    "            if img.size>ISIZE:\n",
    "                img = img.thumbnail(ISIZE)\n",
    "            \n",
    "            if img.size[0]<ICON_SIZE or img.size[1]<ICON_SIZE:\n",
    "                img_size = Image.new('RGBA', ISIZE, (255, 255, 255, 0))\n",
    "                dx = (ICON_SIZE-img.size[0])//2\n",
    "                dy = (ICON_SIZE-img.size[1])//2\n",
    "                img_size.paste(img, (dx, dy))\n",
    "                img = img_size\n",
    "        \n",
    "            print('  ', (x*ICON_SIZE, y*ICON_SIZE))\n",
    "            sheet.paste(img, (x*ICON_SIZE, y*ICON_SIZE))\n",
    "            icon_map[icon_name] = y*N + i\n",
    "    \n",
    "    print('Save texture atlas to {atlas_name}')\n",
    "    sheet.save(atlas_name)\n",
    "    \n",
    "    return W, H, icon_map"
   ]
  },
  {
   "cell_type": "code",
   "execution_count": null,
   "metadata": {},
   "outputs": [],
   "source": [
    "icons = set(vxdf['icon']) | set(vxdf['background_icon'])\n",
    "width, height, icon_map = make_texture_atlas(icons, SPRITE_ATLAS)\n",
    "vxdf['fg_icon_index'] = vxdf.icon.apply(lambda icon_name:icon_map[icon_name] if icon_name else 0)\n",
    "vxdf['bg_icon_index'] = vxdf.background_icon.apply(lambda icon_name:icon_map[icon_name] if icon_name else 0)"
   ]
  },
  {
   "cell_type": "code",
   "execution_count": null,
   "metadata": {},
   "outputs": [],
   "source": [
    "vxs = {}\n",
    "for vx in vxdf.to_dict(orient='records'):\n",
    "    vx_id = vx.pop('[id]')\n",
    "    print(vx)\n",
    "    vxs[vx_id] = vx\n",
    "vxs"
   ]
  },
  {
   "cell_type": "markdown",
   "metadata": {},
   "source": [
    "## Transactions"
   ]
  },
  {
   "cell_type": "code",
   "execution_count": null,
   "metadata": {},
   "outputs": [],
   "source": [
    "tx_attrs = ['source.[id]', 'destination.[id]', 'transaction.color']\n",
    "\n",
    "txdf = cc.get_dataframe(tx=True, attrs=tx_attrs)\n",
    "txdf = txdf.rename(columns=lambda name:name.replace('transaction.', '', 1) if name.startswith('transaction.') else name)\n",
    "\n",
    "print(txdf.shape)\n",
    "txdf.head()"
   ]
  },
  {
   "cell_type": "code",
   "execution_count": null,
   "metadata": {},
   "outputs": [],
   "source": [
    "txdf = txdf.drop_duplicates(['source.[id]', 'destination.[id]'])\n",
    "print(txdf.shape)"
   ]
  },
  {
   "cell_type": "code",
   "execution_count": null,
   "metadata": {},
   "outputs": [],
   "source": [
    "txs = txdf.to_dict(orient='records')\n",
    "txs"
   ]
  },
  {
   "cell_type": "code",
   "execution_count": null,
   "metadata": {},
   "outputs": [],
   "source": [
    "with open('sphere-graph.json', 'w') as f:\n",
    "    json.dump({\n",
    "        'vertex': vxs,\n",
    "        'transaction': txs,\n",
    "        'sprite_atlas': {\n",
    "            'name': SPRITE_ATLAS,\n",
    "            'width': width,\n",
    "            'height': height\n",
    "            },\n",
    "        'icon': icon_map\n",
    "        }, f, indent=2)"
   ]
  },
  {
   "cell_type": "code",
   "execution_count": null,
   "metadata": {},
   "outputs": [],
   "source": [
    "d = {'a':1, 'b':2}\n",
    "d.pop('a')\n",
    "d"
   ]
  },
  {
   "cell_type": "code",
   "execution_count": null,
   "metadata": {},
   "outputs": [],
   "source": [
    "Image.new?"
   ]
  },
  {
   "cell_type": "code",
   "execution_count": null,
   "metadata": {},
   "outputs": [],
   "source": [
    "(3,5)>(3,3)"
   ]
  },
  {
   "cell_type": "code",
   "execution_count": null,
   "metadata": {},
   "outputs": [],
   "source": []
  }
 ],
 "metadata": {
  "kernelspec": {
   "display_name": "Python 3",
   "language": "python",
   "name": "python3"
  },
  "language_info": {
   "codemirror_mode": {
    "name": "ipython",
    "version": 3
   },
   "file_extension": ".py",
   "mimetype": "text/x-python",
   "name": "python",
   "nbconvert_exporter": "python",
   "pygments_lexer": "ipython3",
   "version": "3.7.6"
  }
 },
 "nbformat": 4,
 "nbformat_minor": 4
}
