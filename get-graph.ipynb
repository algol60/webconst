{
 "cells": [
  {
   "cell_type": "markdown",
   "metadata": {},
   "source": [
    "# Get a Constellation graph\n",
    "Get some vertex and transaction attributes."
   ]
  },
  {
   "cell_type": "code",
   "execution_count": null,
   "metadata": {},
   "outputs": [],
   "source": [
    "import json\n",
    "from PIL import Image\n",
    "import io\n",
    "import re\n",
    "\n",
    "import constellation_client"
   ]
  },
  {
   "cell_type": "code",
   "execution_count": null,
   "metadata": {},
   "outputs": [],
   "source": [
    "SPRITE_ATLAS = 'sprite_atlas.png'\n",
    "\n",
    "# Constellation icons are this big.\n",
    "#\n",
    "ICON_SIZE = 256\n",
    "\n",
    "# We build a texture map this big.\n",
    "# Even low-end GPUs should be able to cope with this.\n",
    "#\n",
    "TEXTURE_SIZE = 4096\n",
    "\n",
    "TEXTURE_ICONS = TEXTURE_SIZE // ICON_SIZE\n",
    "\n",
    "print(f'Maximum number of icons: {TEXTURE_ICONS**2}')"
   ]
  },
  {
   "cell_type": "code",
   "execution_count": null,
   "metadata": {},
   "outputs": [],
   "source": [
    "cc = constellation_client.Constellation()"
   ]
  },
  {
   "cell_type": "code",
   "execution_count": null,
   "metadata": {},
   "outputs": [],
   "source": [
    "named_colors = cc.call_service('list_named_colors').json()\n",
    "\n",
    "for name, html in named_colors.items():\n",
    "    gl = htmlToGl_4(html)\n",
    "    print(name, html, gl)"
   ]
  },
  {
   "cell_type": "code",
   "execution_count": null,
   "metadata": {},
   "outputs": [],
   "source": [
    "def colorToFloat4(c):\n",
    "    \"\"\"Convert a color name or an HTML #rrggbb color to a GL list of floats between 0.0 and 1.0 color, and alpha.\"\"\"\n",
    "    \n",
    "    def get_color_names():\n",
    "        if not hasattr(colorToFloat4, 'named_colors'):\n",
    "            colorToFloat4.named_colors = cc.call_service('list_named_colors').json()\n",
    "        \n",
    "        return colorToFloat4.named_colors\n",
    "        \n",
    "    if not c:\n",
    "        raise ValueError(f'Bad color \"{c}\"')\n",
    "        \n",
    "    if len(c)!=7 or not c.startswith('#'):\n",
    "        cn = get_color_names()\n",
    "        if c not in cn:\n",
    "            raise ValueError(f'Bad HTML color \"{c}\"')\n",
    "        \n",
    "        c = cn[c]\n",
    "    \n",
    "    r = int(c[1:3], 16)\n",
    "    g = int(c[3:5], 16)\n",
    "    b = int(c[5:7], 16)\n",
    "    \n",
    "    return [r/255, g/255, b/255, 1.0]"
   ]
  },
  {
   "cell_type": "code",
   "execution_count": null,
   "metadata": {},
   "outputs": [],
   "source": [
    "def parse_blaze(b):\n",
    "    \"\"\"Extract the color and angle from the blaze string.\"\"\"\n",
    "    \n",
    "    if not b:\n",
    "        return None\n",
    "\n",
    "    angle, color = b.split(';')\n",
    "    angle = float(angle)\n",
    "    color = colorToFloat4(color)\n",
    "    \n",
    "    return {'angle':angle, 'color':color}"
   ]
  },
  {
   "cell_type": "markdown",
   "metadata": {},
   "source": [
    "## Graph"
   ]
  },
  {
   "cell_type": "code",
   "execution_count": null,
   "metadata": {},
   "outputs": [],
   "source": [
    "gdf = cc.get_graph_attributes()\n",
    "print(gdf.loc[0, 'camera'])\n",
    "gdf.to_dict(orient='records')"
   ]
  },
  {
   "cell_type": "code",
   "execution_count": null,
   "metadata": {},
   "outputs": [],
   "source": [
    "def get_camera(s):\n",
    "    \"\"\"Get the camera eye,centre,up from the camera string.\"\"\"\n",
    "    \n",
    "    pos = re.compile(r'(\\w+): 3f\\[(.+?)\\]')\n",
    "    camera = {}\n",
    "    for name,loc in pos.findall(s):\n",
    "        camera[name] = [float(f) for f in loc.split(',')]\n",
    "\n",
    "    return camera\n",
    "\n",
    "camera = get_camera(gdf.loc[0, 'camera'])\n",
    "camera"
   ]
  },
  {
   "cell_type": "code",
   "execution_count": null,
   "metadata": {},
   "outputs": [],
   "source": [
    "background_color = gdf.loc[0, 'background_color']\n",
    "node_color_col = gdf.loc[0, 'node_color_reference']\n",
    "if node_color_col is None:\n",
    "    node_color_col = 'color'"
   ]
  },
  {
   "cell_type": "markdown",
   "metadata": {},
   "source": [
    "## Vertices"
   ]
  },
  {
   "cell_type": "code",
   "execution_count": null,
   "metadata": {},
   "outputs": [],
   "source": [
    "vx_attrs = [\n",
    "    'source.[id]',\n",
    "    'source.Label',\n",
    "    'source.x',\n",
    "    'source.y',\n",
    "    'source.z',\n",
    "    'source.icon',\n",
    "    'source.background_icon',\n",
    "    'source.nradius',\n",
    "    'source.blaze',\n",
    "    f'source.{node_color_col}' # TODO do this for txs as well\n",
    "]\n",
    "\n",
    "vxdf = cc.get_dataframe(vx=True, attrs=vx_attrs)\n",
    "vxdf = vxdf.rename(columns=lambda name:name.replace('source.', '', 1) if name.startswith('source.') else name)\n",
    "\n",
    "if node_color_col:\n",
    "    vxdf['color'] = vxdf[node_color_col]\n",
    "    \n",
    "vxdf.blaze = vxdf.blaze.apply(parse_blaze)\n",
    "\n",
    "vxdf.head()"
   ]
  },
  {
   "cell_type": "markdown",
   "metadata": {},
   "source": [
    "## Icons"
   ]
  },
  {
   "cell_type": "code",
   "execution_count": null,
   "metadata": {},
   "outputs": [],
   "source": [
    "def make_texture_atlas(icons, atlas_name):\n",
    "    \"\"\"Given a collection of icons of size ICON_SIZE, create a texture atlas.\n",
    "    \n",
    "    TODO put the background icons in first?\n",
    "    \n",
    "    :returns: the width,height of the atlas, a map from name to cell_index\n",
    "    \"\"\"\n",
    "    \n",
    "    icons = set(icons)\n",
    "    \n",
    "    N = len(icons)\n",
    "    W = min(N, TEXTURE_ICONS)\n",
    "    H = N % W + 1\n",
    "    if H >= TEXTURE_ICONS:\n",
    "        raise ValueError('Too many icons')\n",
    "    \n",
    "    print(N, W, H)\n",
    "    \n",
    "    sheet = Image.new('RGBA', (W*ICON_SIZE, H*ICON_SIZE))\n",
    "    print(f'Created texture atlas {sheet.size}')\n",
    "    \n",
    "    icon_map = {}\n",
    "    for i, icon_name in enumerate(icons):\n",
    "        x = i % W\n",
    "        y = i // W\n",
    "        cell_index = y*W + x\n",
    "        print('.', x, y, cell_index, icon_name)\n",
    "        \n",
    "        img = cc.get_icon(icon_name)\n",
    "        with io.BytesIO(img) as buf:\n",
    "            img = Image.open(buf)\n",
    "            \n",
    "            ISIZE = ICON_SIZE, ICON_SIZE\n",
    "            if img.size>ISIZE:\n",
    "                img = img.thumbnail(ISIZE)\n",
    "            \n",
    "            if img.size[0]<ICON_SIZE or img.size[1]<ICON_SIZE:\n",
    "                img_size = Image.new('RGBA', ISIZE, (255, 255, 255, 0))\n",
    "                dx = (ICON_SIZE-img.size[0])//2\n",
    "                dy = (ICON_SIZE-img.size[1])//2\n",
    "                img_size.paste(img, (dx, dy))\n",
    "                img = img_size\n",
    "        \n",
    "            print('  ', (x*ICON_SIZE, y*ICON_SIZE))\n",
    "            sheet.paste(img, (x*ICON_SIZE, y*ICON_SIZE))\n",
    "            icon_map[icon_name] = y*N + i\n",
    "    \n",
    "    print('Save texture atlas to {atlas_name}')\n",
    "    sheet.save(atlas_name)\n",
    "    \n",
    "    return W, H, icon_map"
   ]
  },
  {
   "cell_type": "code",
   "execution_count": null,
   "metadata": {},
   "outputs": [],
   "source": [
    "icons = set(vxdf['icon']) | set(vxdf['background_icon'])\n",
    "width, height, icon_map = make_texture_atlas(icons, SPRITE_ATLAS)\n",
    "vxdf['fg_icon_index'] = vxdf.icon.apply(lambda icon_name:icon_map[icon_name] if icon_name else 0)\n",
    "vxdf['bg_icon_index'] = vxdf.background_icon.apply(lambda icon_name:icon_map[icon_name] if icon_name else 0)"
   ]
  },
  {
   "cell_type": "code",
   "execution_count": null,
   "metadata": {},
   "outputs": [],
   "source": [
    "vxs = {}\n",
    "for vx in vxdf.to_dict(orient='records'):\n",
    "    vx_id = vx.pop('[id]')\n",
    "#     print(vx)\n",
    "    vxs[vx_id] = vx\n",
    "# vxs"
   ]
  },
  {
   "cell_type": "markdown",
   "metadata": {},
   "source": [
    "## Transactions"
   ]
  },
  {
   "cell_type": "code",
   "execution_count": null,
   "metadata": {},
   "outputs": [],
   "source": [
    "tx_attrs = ['source.[id]', 'destination.[id]', 'transaction.color']\n",
    "\n",
    "txdf = cc.get_dataframe(tx=True, attrs=tx_attrs)\n",
    "txdf = txdf.rename(columns=lambda name:name.replace('transaction.', '', 1) if name.startswith('transaction.') else name)\n",
    "\n",
    "print(txdf.shape)\n",
    "txdf.head()"
   ]
  },
  {
   "cell_type": "code",
   "execution_count": null,
   "metadata": {},
   "outputs": [],
   "source": [
    "# TODO treat multiple transactions correctly.\n",
    "#\n",
    "txdf = txdf.drop_duplicates(['source.[id]', 'destination.[id]'])\n",
    "print(txdf.shape)"
   ]
  },
  {
   "cell_type": "code",
   "execution_count": null,
   "metadata": {},
   "outputs": [],
   "source": [
    "txs = txdf.to_dict(orient='records')\n",
    "# txs"
   ]
  },
  {
   "cell_type": "code",
   "execution_count": null,
   "metadata": {},
   "outputs": [],
   "source": [
    "# Write the JSON document for the Constellation web viewer.\n",
    "#\n",
    "with open('sphere-graph.json', 'w') as f:\n",
    "    json.dump({\n",
    "        'vertex': vxs,\n",
    "        'transaction': txs,\n",
    "        'sprite_atlas': {\n",
    "            'name': SPRITE_ATLAS,\n",
    "            'width': width,\n",
    "            'height': height\n",
    "            },\n",
    "        'icon': icon_map,\n",
    "        'camera': camera,\n",
    "        'background_color': background_color\n",
    "        }, f, indent=2)"
   ]
  },
  {
   "cell_type": "markdown",
   "metadata": {},
   "source": [
    "# An example graph"
   ]
  },
  {
   "cell_type": "code",
   "execution_count": null,
   "metadata": {},
   "outputs": [],
   "source": [
    "import networkx as nx\n",
    "import pandas as pd"
   ]
  },
  {
   "cell_type": "code",
   "execution_count": null,
   "metadata": {},
   "outputs": [],
   "source": [
    "g = nx.les_miserables_graph()\n",
    "people = [[p1, p2] for p1,p2 in g.edges]\n",
    "df = pd.DataFrame.from_records(people)\n",
    "df.columns = ['source.Identifier', 'destination.Identifier']\n",
    "df['source.Type'] = 'Person'\n",
    "df['destination.Type'] = 'Person'\n",
    "df['transaction.Type'] = 'Relationship'\n",
    "df.head()"
   ]
  },
  {
   "cell_type": "code",
   "execution_count": null,
   "metadata": {},
   "outputs": [],
   "source": [
    "cc = constellation_client.Constellation()\n",
    "cc.put_dataframe(df)"
   ]
  },
  {
   "cell_type": "code",
   "execution_count": null,
   "metadata": {},
   "outputs": [],
   "source": []
  },
  {
   "cell_type": "code",
   "execution_count": null,
   "metadata": {},
   "outputs": [],
   "source": []
  }
 ],
 "metadata": {
  "kernelspec": {
   "display_name": "Python 3",
   "language": "python",
   "name": "python3"
  },
  "language_info": {
   "codemirror_mode": {
    "name": "ipython",
    "version": 3
   },
   "file_extension": ".py",
   "mimetype": "text/x-python",
   "name": "python",
   "nbconvert_exporter": "python",
   "pygments_lexer": "ipython3",
   "version": "3.7.6"
  }
 },
 "nbformat": 4,
 "nbformat_minor": 4
}
